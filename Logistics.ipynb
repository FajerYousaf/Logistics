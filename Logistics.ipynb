{
 "cells": [
  {
   "cell_type": "code",
   "execution_count": 1,
   "metadata": {},
   "outputs": [],
   "source": [
    "import pandas as pd\n",
    "import datetime\n",
    "from datetime import datetime"
   ]
  },
  {
   "cell_type": "code",
   "execution_count": 2,
   "metadata": {},
   "outputs": [],
   "source": [
    "data=pd.read_csv('logistique.csv')"
   ]
  },
  {
   "cell_type": "markdown",
   "metadata": {},
   "source": [
    "## Afficher la data"
   ]
  },
  {
   "cell_type": "code",
   "execution_count": 3,
   "metadata": {},
   "outputs": [
    {
     "data": {
      "text/html": [
       "<div>\n",
       "<style scoped>\n",
       "    .dataframe tbody tr th:only-of-type {\n",
       "        vertical-align: middle;\n",
       "    }\n",
       "\n",
       "    .dataframe tbody tr th {\n",
       "        vertical-align: top;\n",
       "    }\n",
       "\n",
       "    .dataframe thead th {\n",
       "        text-align: right;\n",
       "    }\n",
       "</style>\n",
       "<table border=\"1\" class=\"dataframe\">\n",
       "  <thead>\n",
       "    <tr style=\"text-align: right;\">\n",
       "      <th></th>\n",
       "      <th>datedecreationdecommande</th>\n",
       "      <th>providerservice_id</th>\n",
       "      <th>dateexpe</th>\n",
       "    </tr>\n",
       "  </thead>\n",
       "  <tbody>\n",
       "    <tr>\n",
       "      <td>0</td>\n",
       "      <td>2019-11-01 11:40:35.9930000</td>\n",
       "      <td>48</td>\n",
       "      <td>02/11/2019</td>\n",
       "    </tr>\n",
       "    <tr>\n",
       "      <td>1</td>\n",
       "      <td>2019-11-01 11:40:35.9700000</td>\n",
       "      <td>48</td>\n",
       "      <td>02/11/2019</td>\n",
       "    </tr>\n",
       "    <tr>\n",
       "      <td>2</td>\n",
       "      <td>2019-11-01 10:24:40.8930000</td>\n",
       "      <td>48</td>\n",
       "      <td>02/11/2019</td>\n",
       "    </tr>\n",
       "    <tr>\n",
       "      <td>3</td>\n",
       "      <td>2019-11-01 14:24:21.1770000</td>\n",
       "      <td>48</td>\n",
       "      <td>02/11/2019</td>\n",
       "    </tr>\n",
       "    <tr>\n",
       "      <td>4</td>\n",
       "      <td>2019-11-01 13:28:35.7900000</td>\n",
       "      <td>48</td>\n",
       "      <td>02/11/2019</td>\n",
       "    </tr>\n",
       "    <tr>\n",
       "      <td>...</td>\n",
       "      <td>...</td>\n",
       "      <td>...</td>\n",
       "      <td>...</td>\n",
       "    </tr>\n",
       "    <tr>\n",
       "      <td>572836</td>\n",
       "      <td>2019-12-16 06:12:25.2170000</td>\n",
       "      <td>48</td>\n",
       "      <td>17/12/2019</td>\n",
       "    </tr>\n",
       "    <tr>\n",
       "      <td>572837</td>\n",
       "      <td>2019-12-16 06:12:25.4630000</td>\n",
       "      <td>48</td>\n",
       "      <td>17/12/2019</td>\n",
       "    </tr>\n",
       "    <tr>\n",
       "      <td>572838</td>\n",
       "      <td>2019-12-15 22:32:36.3200000</td>\n",
       "      <td>48</td>\n",
       "      <td>17/12/2019</td>\n",
       "    </tr>\n",
       "    <tr>\n",
       "      <td>572839</td>\n",
       "      <td>2019-12-15 20:06:55.0670000</td>\n",
       "      <td>48</td>\n",
       "      <td>17/12/2019</td>\n",
       "    </tr>\n",
       "    <tr>\n",
       "      <td>572840</td>\n",
       "      <td>2019-12-15 19:17:10.1230000</td>\n",
       "      <td>48</td>\n",
       "      <td>17/12/2019</td>\n",
       "    </tr>\n",
       "  </tbody>\n",
       "</table>\n",
       "<p>572841 rows × 3 columns</p>\n",
       "</div>"
      ],
      "text/plain": [
       "           datedecreationdecommande  providerservice_id    dateexpe\n",
       "0       2019-11-01 11:40:35.9930000                  48  02/11/2019\n",
       "1       2019-11-01 11:40:35.9700000                  48  02/11/2019\n",
       "2       2019-11-01 10:24:40.8930000                  48  02/11/2019\n",
       "3       2019-11-01 14:24:21.1770000                  48  02/11/2019\n",
       "4       2019-11-01 13:28:35.7900000                  48  02/11/2019\n",
       "...                             ...                 ...         ...\n",
       "572836  2019-12-16 06:12:25.2170000                  48  17/12/2019\n",
       "572837  2019-12-16 06:12:25.4630000                  48  17/12/2019\n",
       "572838  2019-12-15 22:32:36.3200000                  48  17/12/2019\n",
       "572839  2019-12-15 20:06:55.0670000                  48  17/12/2019\n",
       "572840  2019-12-15 19:17:10.1230000                  48  17/12/2019\n",
       "\n",
       "[572841 rows x 3 columns]"
      ]
     },
     "execution_count": 3,
     "metadata": {},
     "output_type": "execute_result"
    }
   ],
   "source": [
    "data"
   ]
  },
  {
   "cell_type": "markdown",
   "metadata": {},
   "source": [
    "## Explorer la Data"
   ]
  },
  {
   "cell_type": "code",
   "execution_count": 4,
   "metadata": {},
   "outputs": [
    {
     "data": {
      "text/html": [
       "<div>\n",
       "<style scoped>\n",
       "    .dataframe tbody tr th:only-of-type {\n",
       "        vertical-align: middle;\n",
       "    }\n",
       "\n",
       "    .dataframe tbody tr th {\n",
       "        vertical-align: top;\n",
       "    }\n",
       "\n",
       "    .dataframe thead th {\n",
       "        text-align: right;\n",
       "    }\n",
       "</style>\n",
       "<table border=\"1\" class=\"dataframe\">\n",
       "  <thead>\n",
       "    <tr style=\"text-align: right;\">\n",
       "      <th></th>\n",
       "      <th>count</th>\n",
       "      <th>mean</th>\n",
       "      <th>std</th>\n",
       "      <th>min</th>\n",
       "      <th>25%</th>\n",
       "      <th>50%</th>\n",
       "      <th>75%</th>\n",
       "      <th>max</th>\n",
       "    </tr>\n",
       "  </thead>\n",
       "  <tbody>\n",
       "    <tr>\n",
       "      <td>providerservice_id</td>\n",
       "      <td>572841.0</td>\n",
       "      <td>41.307515</td>\n",
       "      <td>13.523457</td>\n",
       "      <td>5.0</td>\n",
       "      <td>48.0</td>\n",
       "      <td>48.0</td>\n",
       "      <td>48.0</td>\n",
       "      <td>92.0</td>\n",
       "    </tr>\n",
       "  </tbody>\n",
       "</table>\n",
       "</div>"
      ],
      "text/plain": [
       "                       count       mean        std  min   25%   50%   75%  \\\n",
       "providerservice_id  572841.0  41.307515  13.523457  5.0  48.0  48.0  48.0   \n",
       "\n",
       "                     max  \n",
       "providerservice_id  92.0  "
      ]
     },
     "execution_count": 4,
     "metadata": {},
     "output_type": "execute_result"
    }
   ],
   "source": [
    "data.describe().T\n",
    "#Avec cette commande on n'arrive pas à avoir des information exploitable car les features sont deux strings \n",
    "#et un int qui n'en ai pas vraiment un car c'est un id et non pas une donnée ordonnable"
   ]
  },
  {
   "cell_type": "raw",
   "metadata": {},
   "source": [
    "On remarque qu'il y a des dates d'expédition antérieur à la date de commande donc il faut supprimer ces lignes là\n"
   ]
  },
  {
   "cell_type": "markdown",
   "metadata": {},
   "source": [
    "## Nettoyer la Data"
   ]
  },
  {
   "cell_type": "code",
   "execution_count": 5,
   "metadata": {},
   "outputs": [
    {
     "name": "stdout",
     "output_type": "stream",
     "text": [
      "1\n"
     ]
    }
   ],
   "source": [
    "from datetime import date,  timedelta\n",
    "from calendar import SATURDAY,  SUNDAY\n",
    "\n",
    "def parse1(my_date):\n",
    "    \"\"\"Date of type 01/11/2019\"\"\"\n",
    "    d, m, y = map(int, my_date.split('/'))\n",
    "    #print(date(y, m, d))\n",
    "    return date(y, m, d)\n",
    "\n",
    "def parse2(my_date):\n",
    "    \"\"\"Date of type 2019-11-01 11:40:35.993000\"\"\"\n",
    "    date1,heure=my_date.split(' ')\n",
    "    y, m, d = map(int, date1.split('-'))\n",
    "    return date(y, m, d)\n",
    " \n",
    "def days_diff(date_1, date_2):\n",
    "    return ((parse1(date_1) - parse2(date_2)).days)\n",
    "\n",
    "#test\n",
    "a=\"02/11/2019\"\n",
    "b=\"2019-11-01 11:40:35.9930000\"\n",
    "n_days = days_diff(a,b) \n",
    "print(n_days)"
   ]
  },
  {
   "cell_type": "code",
   "execution_count": 6,
   "metadata": {},
   "outputs": [],
   "source": [
    "#Ici on supprime les lignes où la date d'expédition est antérieur à la date de commande\n",
    "k=[]\n",
    "for i in data.index :\n",
    "    dateexpe=data[\"dateexpe\"].values[i]\n",
    "    datecommande=data[\"datedecreationdecommande\"].values[i]\n",
    "    n_days = days_diff(dateexpe,datecommande)\n",
    "    if (n_days<0):\n",
    "        k.append(i)\n",
    "        #data.drop(data.index[[i]])"
   ]
  },
  {
   "cell_type": "code",
   "execution_count": 7,
   "metadata": {},
   "outputs": [],
   "source": [
    "data=data.drop(data.index[k])"
   ]
  },
  {
   "cell_type": "code",
   "execution_count": 8,
   "metadata": {},
   "outputs": [
    {
     "data": {
      "text/plain": [
       "572807"
      ]
     },
     "execution_count": 8,
     "metadata": {},
     "output_type": "execute_result"
    }
   ],
   "source": [
    "data.shape\n",
    "len(data)"
   ]
  },
  {
   "cell_type": "markdown",
   "metadata": {},
   "source": [
    "## Créer la Target"
   ]
  },
  {
   "cell_type": "markdown",
   "metadata": {},
   "source": [
    "##### On va créé une target qui donne le délais entre le jour de commande et le jour d'expédition\n"
   ]
  },
  {
   "cell_type": "code",
   "execution_count": 9,
   "metadata": {},
   "outputs": [],
   "source": [
    "delais=[]\n",
    "for i in range(len(data)):\n",
    "    datecommande=data[\"dateexpe\"].values[i]\n",
    "    dateexpe=data[\"datedecreationdecommande\"].values[i]\n",
    "    n_days = days_diff(datecommande,dateexpe) \n",
    "    delais.append(n_days)"
   ]
  },
  {
   "cell_type": "code",
   "execution_count": 10,
   "metadata": {},
   "outputs": [],
   "source": [
    "data['délais']=delais"
   ]
  },
  {
   "cell_type": "code",
   "execution_count": 11,
   "metadata": {},
   "outputs": [
    {
     "data": {
      "text/html": [
       "<div>\n",
       "<style scoped>\n",
       "    .dataframe tbody tr th:only-of-type {\n",
       "        vertical-align: middle;\n",
       "    }\n",
       "\n",
       "    .dataframe tbody tr th {\n",
       "        vertical-align: top;\n",
       "    }\n",
       "\n",
       "    .dataframe thead th {\n",
       "        text-align: right;\n",
       "    }\n",
       "</style>\n",
       "<table border=\"1\" class=\"dataframe\">\n",
       "  <thead>\n",
       "    <tr style=\"text-align: right;\">\n",
       "      <th></th>\n",
       "      <th>datedecreationdecommande</th>\n",
       "      <th>providerservice_id</th>\n",
       "      <th>dateexpe</th>\n",
       "      <th>délais</th>\n",
       "    </tr>\n",
       "  </thead>\n",
       "  <tbody>\n",
       "    <tr>\n",
       "      <td>62921</td>\n",
       "      <td>2019-11-07 21:38:41.8370000</td>\n",
       "      <td>7</td>\n",
       "      <td>14/11/2019</td>\n",
       "      <td>7</td>\n",
       "    </tr>\n",
       "    <tr>\n",
       "      <td>77520</td>\n",
       "      <td>2019-11-07 05:00:39.1870000</td>\n",
       "      <td>48</td>\n",
       "      <td>22/11/2019</td>\n",
       "      <td>15</td>\n",
       "    </tr>\n",
       "    <tr>\n",
       "      <td>105552</td>\n",
       "      <td>2019-12-02 19:32:35.6030000</td>\n",
       "      <td>7</td>\n",
       "      <td>09/12/2019</td>\n",
       "      <td>7</td>\n",
       "    </tr>\n",
       "    <tr>\n",
       "      <td>105553</td>\n",
       "      <td>2019-12-02 19:22:00.2030000</td>\n",
       "      <td>7</td>\n",
       "      <td>09/12/2019</td>\n",
       "      <td>7</td>\n",
       "    </tr>\n",
       "    <tr>\n",
       "      <td>105554</td>\n",
       "      <td>2019-12-02 18:58:34.6030000</td>\n",
       "      <td>7</td>\n",
       "      <td>09/12/2019</td>\n",
       "      <td>7</td>\n",
       "    </tr>\n",
       "    <tr>\n",
       "      <td>...</td>\n",
       "      <td>...</td>\n",
       "      <td>...</td>\n",
       "      <td>...</td>\n",
       "      <td>...</td>\n",
       "    </tr>\n",
       "    <tr>\n",
       "      <td>537035</td>\n",
       "      <td>2019-12-02 20:03:58.0200000</td>\n",
       "      <td>48</td>\n",
       "      <td>09/12/2019</td>\n",
       "      <td>7</td>\n",
       "    </tr>\n",
       "    <tr>\n",
       "      <td>537037</td>\n",
       "      <td>2019-12-02 23:03:43.6530000</td>\n",
       "      <td>48</td>\n",
       "      <td>09/12/2019</td>\n",
       "      <td>7</td>\n",
       "    </tr>\n",
       "    <tr>\n",
       "      <td>537042</td>\n",
       "      <td>2019-12-02 23:16:50.8000000</td>\n",
       "      <td>48</td>\n",
       "      <td>09/12/2019</td>\n",
       "      <td>7</td>\n",
       "    </tr>\n",
       "    <tr>\n",
       "      <td>546222</td>\n",
       "      <td>2019-12-02 15:15:57.4500000</td>\n",
       "      <td>48</td>\n",
       "      <td>09/12/2019</td>\n",
       "      <td>7</td>\n",
       "    </tr>\n",
       "    <tr>\n",
       "      <td>556057</td>\n",
       "      <td>2019-12-02 22:22:05.0670000</td>\n",
       "      <td>42</td>\n",
       "      <td>09/12/2019</td>\n",
       "      <td>7</td>\n",
       "    </tr>\n",
       "  </tbody>\n",
       "</table>\n",
       "<p>3170 rows × 4 columns</p>\n",
       "</div>"
      ],
      "text/plain": [
       "           datedecreationdecommande  providerservice_id    dateexpe  délais\n",
       "62921   2019-11-07 21:38:41.8370000                   7  14/11/2019       7\n",
       "77520   2019-11-07 05:00:39.1870000                  48  22/11/2019      15\n",
       "105552  2019-12-02 19:32:35.6030000                   7  09/12/2019       7\n",
       "105553  2019-12-02 19:22:00.2030000                   7  09/12/2019       7\n",
       "105554  2019-12-02 18:58:34.6030000                   7  09/12/2019       7\n",
       "...                             ...                 ...         ...     ...\n",
       "537035  2019-12-02 20:03:58.0200000                  48  09/12/2019       7\n",
       "537037  2019-12-02 23:03:43.6530000                  48  09/12/2019       7\n",
       "537042  2019-12-02 23:16:50.8000000                  48  09/12/2019       7\n",
       "546222  2019-12-02 15:15:57.4500000                  48  09/12/2019       7\n",
       "556057  2019-12-02 22:22:05.0670000                  42  09/12/2019       7\n",
       "\n",
       "[3170 rows x 4 columns]"
      ]
     },
     "execution_count": 11,
     "metadata": {},
     "output_type": "execute_result"
    }
   ],
   "source": [
    "data[data['délais']>6]"
   ]
  },
  {
   "cell_type": "markdown",
   "metadata": {},
   "source": [
    "##### On explore la target en fonctions des paramètres exixtants"
   ]
  },
  {
   "cell_type": "code",
   "execution_count": 12,
   "metadata": {},
   "outputs": [
    {
     "data": {
      "text/plain": [
       "count    572807.000000\n",
       "mean          2.317589\n",
       "std           1.236173\n",
       "min           0.000000\n",
       "25%           1.000000\n",
       "50%           2.000000\n",
       "75%           3.000000\n",
       "max          15.000000\n",
       "Name: délais, dtype: float64"
      ]
     },
     "execution_count": 12,
     "metadata": {},
     "output_type": "execute_result"
    }
   ],
   "source": [
    "data['délais'].describe()\n",
    "#On remarque que le délais évolue entre 0 et 15 jours\n",
    "#Et que la moyenne était d'environ 2,32 jours"
   ]
  },
  {
   "cell_type": "code",
   "execution_count": 13,
   "metadata": {},
   "outputs": [
    {
     "data": {
      "text/html": [
       "<div>\n",
       "<style scoped>\n",
       "    .dataframe tbody tr th:only-of-type {\n",
       "        vertical-align: middle;\n",
       "    }\n",
       "\n",
       "    .dataframe tbody tr th {\n",
       "        vertical-align: top;\n",
       "    }\n",
       "\n",
       "    .dataframe thead th {\n",
       "        text-align: right;\n",
       "    }\n",
       "</style>\n",
       "<table border=\"1\" class=\"dataframe\">\n",
       "  <thead>\n",
       "    <tr style=\"text-align: right;\">\n",
       "      <th></th>\n",
       "      <th>datedecreationdecommande</th>\n",
       "      <th>providerservice_id</th>\n",
       "      <th>dateexpe</th>\n",
       "      <th>délais</th>\n",
       "    </tr>\n",
       "  </thead>\n",
       "  <tbody>\n",
       "  </tbody>\n",
       "</table>\n",
       "</div>"
      ],
      "text/plain": [
       "Empty DataFrame\n",
       "Columns: [datedecreationdecommande, providerservice_id, dateexpe, délais]\n",
       "Index: []"
      ]
     },
     "execution_count": 13,
     "metadata": {},
     "output_type": "execute_result"
    }
   ],
   "source": [
    "data[(data['délais']>6)]\n",
    "#On remarque qu'il y a 3170 commandes qui ont un délais d'attente \n",
    "#entre la date de commande et la date d'expédition sup à 1 semaine\n",
    "\n",
    "data[(data['délais']>6) & (data['providerservice_id']!=7) & (data['providerservice_id']!=48)\n",
    "     & (data['providerservice_id']!=42)  & (data['providerservice_id']!=21)]\n",
    "#Et on remarque que les provider service qui ont ces délais sont le 7, 21, 42 et le 48"
   ]
  },
  {
   "cell_type": "code",
   "execution_count": 14,
   "metadata": {},
   "outputs": [],
   "source": [
    "ps_sup6={}\n",
    "for i in  data[(data['délais']>6)].index:\n",
    "    #print(i-2)\n",
    "    if (data.iloc[i-2,1]) not in ps_sup6:\n",
    "            ps_sup6[data.iloc[i-2,1]]=1\n",
    "    else:\n",
    "            ps_sup6[data.iloc[i-2,1]]=ps_sup6[data.iloc[i-2,1]]+1"
   ]
  },
  {
   "cell_type": "code",
   "execution_count": 15,
   "metadata": {},
   "outputs": [
    {
     "data": {
      "text/plain": [
       "{7: 1696, 48: 844, 42: 383, 21: 240, 16: 5, 92: 1, 5: 1}"
      ]
     },
     "execution_count": 15,
     "metadata": {},
     "output_type": "execute_result"
    }
   ],
   "source": [
    "ps_sup6"
   ]
  },
  {
   "cell_type": "code",
   "execution_count": 16,
   "metadata": {},
   "outputs": [],
   "source": [
    "data[(data['délais']==0) ==True]\n",
    "#On remarque qu'il y a 14474  commandes qui ont un délais d'attente \n",
    "#entre la date de commande et la date d'expédition de 0 jour\n",
    "\n",
    "\n",
    "#On regarde qu'elles sont les provider service les plus rapides\n",
    "ps_0={}\n",
    "for i in  data[(data['délais']==0)].index:\n",
    "     if (data.iloc[i-2,1]) not in ps_0:\n",
    "            ps_0[data.iloc[i-2,1]]=0\n",
    "     if (data.iloc[i-2,1]) in ps_0:\n",
    "            ps_0[data.iloc[i-2,1]]=ps_0[data.iloc[i-2,1]]+1\n"
   ]
  },
  {
   "cell_type": "code",
   "execution_count": 17,
   "metadata": {},
   "outputs": [
    {
     "data": {
      "text/plain": [
       "{48: 8806, 21: 2510, 7: 499, 16: 1778, 92: 694, 20: 64, 42: 123}"
      ]
     },
     "execution_count": 17,
     "metadata": {},
     "output_type": "execute_result"
    }
   ],
   "source": [
    "ps_0\n",
    "#On remarque que les plus rapides sont le 48 le 21 et le 16"
   ]
  },
  {
   "cell_type": "code",
   "execution_count": 18,
   "metadata": {},
   "outputs": [
    {
     "name": "stdout",
     "output_type": "stream",
     "text": [
      "77520\n"
     ]
    }
   ],
   "source": [
    "ps_15={}\n",
    "for i in  data[(data['délais']==15)].index:\n",
    "    print(i)\n",
    "    if (data.iloc[i-2,1]) not in ps_15:\n",
    "            ps_15[data.iloc[i-2,1]]=0\n",
    "    if (data.iloc[i-2,1]) in ps_15:\n",
    "            ps_15[data.iloc[i-2,1]]=ps_15[data.iloc[i-2,1]]+1\n"
   ]
  },
  {
   "cell_type": "code",
   "execution_count": 65,
   "metadata": {},
   "outputs": [
    {
     "data": {
      "text/plain": [
       "providerservice_id\n",
       "5     3.0\n",
       "7     3.0\n",
       "16    1.0\n",
       "20    1.0\n",
       "21    2.0\n",
       "42    3.0\n",
       "48    2.0\n",
       "92    0.0\n",
       "Name: délais, dtype: float64"
      ]
     },
     "execution_count": 65,
     "metadata": {},
     "output_type": "execute_result"
    }
   ],
   "source": [
    "#On cherche à savoir le temps moyen de chaque providerservice_id\n",
    "data.groupby('providerservice_id')['délais'].mean().round(0)"
   ]
  },
  {
   "cell_type": "code",
   "execution_count": 66,
   "metadata": {},
   "outputs": [
    {
     "data": {
      "text/plain": [
       "providerservice_id\n",
       "5      5\n",
       "7      8\n",
       "16     4\n",
       "20     5\n",
       "21     8\n",
       "42     7\n",
       "48    15\n",
       "92     3\n",
       "Name: délais, dtype: int64"
      ]
     },
     "execution_count": 66,
     "metadata": {},
     "output_type": "execute_result"
    }
   ],
   "source": [
    "#On cherche à savoir le temps maximum de chaque providerservice_id\n",
    "data.groupby('providerservice_id')['délais'].max().round(0)"
   ]
  },
  {
   "cell_type": "code",
   "execution_count": 67,
   "metadata": {},
   "outputs": [
    {
     "data": {
      "text/plain": [
       "providerservice_id\n",
       "5     1\n",
       "7     0\n",
       "16    0\n",
       "20    0\n",
       "21    0\n",
       "42    0\n",
       "48    0\n",
       "92    0\n",
       "Name: délais, dtype: int64"
      ]
     },
     "execution_count": 67,
     "metadata": {},
     "output_type": "execute_result"
    }
   ],
   "source": [
    "#On cherche à savoir le temps minimum de chaque providerservice_id\n",
    "data.groupby('providerservice_id')['délais'].min().round(0)"
   ]
  },
  {
   "cell_type": "code",
   "execution_count": 69,
   "metadata": {},
   "outputs": [
    {
     "data": {
      "image/png": "[encoded data removed]",
      "text/plain": [
       "<Figure size 864x720 with 1 Axes>"
      ]
     },
     "metadata": {
      "needs_background": "light"
     },
     "output_type": "display_data"
    }
   ],
   "source": [
    "import numpy as np\n",
    "\n",
    "from matplotlib import pyplot as plt\n",
    "\n",
    "plt.figure(figsize=(12,10))\n",
    "plt.hist(delais,align=\"mid\",rwidth=0.9,color=\"b\",edgecolor=\"red\",label=\"delais\")\n",
    "plt.show()"
   ]
  },
  {
   "cell_type": "markdown",
   "metadata": {},
   "source": [
    "## Ajouter des Features\n"
   ]
  },
  {
   "cell_type": "markdown",
   "metadata": {},
   "source": [
    "##### On va créer de features et les analyser afin de voir si elles sont pertinentes pour construire les différents modèles\n"
   ]
  },
  {
   "cell_type": "code",
   "execution_count": 21,
   "metadata": {},
   "outputs": [],
   "source": [
    "#On sépare la date de commande en date et heure\n",
    "data['Date_commande'] = pd.to_datetime(data['datedecreationdecommande']).dt.date\n",
    "data['Heure_commande'] = pd.to_datetime(data['datedecreationdecommande']).dt.hour\n",
    "\n",
    "#On rajour le jour de semaine de la commande\n",
    "data['Jour_semaine']= pd.to_datetime(data['datedecreationdecommande']).dt.weekday "
   ]
  },
  {
   "cell_type": "code",
   "execution_count": 22,
   "metadata": {},
   "outputs": [],
   "source": [
    "#On sépare la date de commande en jour, mois et année\n",
    "data['Annee_C']= pd.to_datetime(data['datedecreationdecommande']).dt.year\n",
    "data['Mois_C']= pd.to_datetime(data['datedecreationdecommande']).dt.month\n",
    "data['Jour_C']= pd.to_datetime(data['datedecreationdecommande']).dt.day\n",
    "\n",
    "#On transforme la variable du service en string a\n",
    "data['Fournisseur']=data['providerservice_id'].astype(str)"
   ]
  },
  {
   "cell_type": "code",
   "execution_count": 23,
   "metadata": {},
   "outputs": [],
   "source": [
    "lesJours = ['Lundi', 'Mardi', 'Mercredi', 'Jeudi', 'Vendredi', 'Samedi', 'Dimanche']\n",
    "\n",
    "Calendar=[]\n",
    "for i in data['Jour_semaine']:\n",
    "    #print(lesJours[i])\n",
    "    Calendar.append(lesJours[i])\n",
    "\n",
    "data['Jour_calendaire']= Calendar \n"
   ]
  },
  {
   "cell_type": "code",
   "execution_count": 24,
   "metadata": {},
   "outputs": [],
   "source": [
    "#On créé une variable qui va nous dire si oui ou non la commande a été effectué pendant les heures de travail\n",
    "#On determine l'intervalle entre\n",
    "data['heure_travail']= (data['Heure_commande']>8) &  (data['Heure_commande']<20)\n",
    "data['heure_travail']= data['heure_travail'].astype(int)"
   ]
  },
  {
   "cell_type": "code",
   "execution_count": 25,
   "metadata": {},
   "outputs": [
    {
     "data": {
      "text/plain": [
       "datedecreationdecommande    object\n",
       "providerservice_id           int64\n",
       "dateexpe                    object\n",
       "délais                       int64\n",
       "Date_commande               object\n",
       "Heure_commande               int64\n",
       "Jour_semaine                 int64\n",
       "Annee_C                      int64\n",
       "Mois_C                       int64\n",
       "Jour_C                       int64\n",
       "Fournisseur                 object\n",
       "Jour_calendaire             object\n",
       "heure_travail                int32\n",
       "dtype: object"
      ]
     },
     "execution_count": 25,
     "metadata": {},
     "output_type": "execute_result"
    }
   ],
   "source": [
    "data.dtypes"
   ]
  },
  {
   "cell_type": "code",
   "execution_count": 26,
   "metadata": {
    "scrolled": true
   },
   "outputs": [],
   "source": [
    "data2=data[['Jour_C','Mois_C','Jour_semaine','Heure_commande','heure_travail','Fournisseur','délais']]"
   ]
  },
  {
   "cell_type": "code",
   "execution_count": 27,
   "metadata": {},
   "outputs": [
    {
     "data": {
      "text/plain": [
       "Jour_C             int64\n",
       "Mois_C             int64\n",
       "Jour_semaine       int64\n",
       "Heure_commande     int64\n",
       "heure_travail      int32\n",
       "Fournisseur       object\n",
       "délais             int64\n",
       "dtype: object"
      ]
     },
     "execution_count": 27,
     "metadata": {},
     "output_type": "execute_result"
    }
   ],
   "source": [
    "data2.dtypes"
   ]
  },
  {
   "cell_type": "code",
   "execution_count": 28,
   "metadata": {},
   "outputs": [
    {
     "data": {
      "text/html": [
       "<div>\n",
       "<style scoped>\n",
       "    .dataframe tbody tr th:only-of-type {\n",
       "        vertical-align: middle;\n",
       "    }\n",
       "\n",
       "    .dataframe tbody tr th {\n",
       "        vertical-align: top;\n",
       "    }\n",
       "\n",
       "    .dataframe thead th {\n",
       "        text-align: right;\n",
       "    }\n",
       "</style>\n",
       "<table border=\"1\" class=\"dataframe\">\n",
       "  <thead>\n",
       "    <tr style=\"text-align: right;\">\n",
       "      <th></th>\n",
       "      <th>Jour_C</th>\n",
       "      <th>Mois_C</th>\n",
       "      <th>Jour_semaine</th>\n",
       "      <th>Heure_commande</th>\n",
       "      <th>heure_travail</th>\n",
       "      <th>Fournisseur</th>\n",
       "      <th>délais</th>\n",
       "    </tr>\n",
       "  </thead>\n",
       "  <tbody>\n",
       "    <tr>\n",
       "      <td>0</td>\n",
       "      <td>1</td>\n",
       "      <td>11</td>\n",
       "      <td>4</td>\n",
       "      <td>11</td>\n",
       "      <td>1</td>\n",
       "      <td>48</td>\n",
       "      <td>1</td>\n",
       "    </tr>\n",
       "    <tr>\n",
       "      <td>1</td>\n",
       "      <td>1</td>\n",
       "      <td>11</td>\n",
       "      <td>4</td>\n",
       "      <td>11</td>\n",
       "      <td>1</td>\n",
       "      <td>48</td>\n",
       "      <td>1</td>\n",
       "    </tr>\n",
       "    <tr>\n",
       "      <td>2</td>\n",
       "      <td>1</td>\n",
       "      <td>11</td>\n",
       "      <td>4</td>\n",
       "      <td>10</td>\n",
       "      <td>1</td>\n",
       "      <td>48</td>\n",
       "      <td>1</td>\n",
       "    </tr>\n",
       "    <tr>\n",
       "      <td>3</td>\n",
       "      <td>1</td>\n",
       "      <td>11</td>\n",
       "      <td>4</td>\n",
       "      <td>14</td>\n",
       "      <td>1</td>\n",
       "      <td>48</td>\n",
       "      <td>1</td>\n",
       "    </tr>\n",
       "    <tr>\n",
       "      <td>4</td>\n",
       "      <td>1</td>\n",
       "      <td>11</td>\n",
       "      <td>4</td>\n",
       "      <td>13</td>\n",
       "      <td>1</td>\n",
       "      <td>48</td>\n",
       "      <td>1</td>\n",
       "    </tr>\n",
       "    <tr>\n",
       "      <td>...</td>\n",
       "      <td>...</td>\n",
       "      <td>...</td>\n",
       "      <td>...</td>\n",
       "      <td>...</td>\n",
       "      <td>...</td>\n",
       "      <td>...</td>\n",
       "      <td>...</td>\n",
       "    </tr>\n",
       "    <tr>\n",
       "      <td>572836</td>\n",
       "      <td>16</td>\n",
       "      <td>12</td>\n",
       "      <td>0</td>\n",
       "      <td>6</td>\n",
       "      <td>0</td>\n",
       "      <td>48</td>\n",
       "      <td>1</td>\n",
       "    </tr>\n",
       "    <tr>\n",
       "      <td>572837</td>\n",
       "      <td>16</td>\n",
       "      <td>12</td>\n",
       "      <td>0</td>\n",
       "      <td>6</td>\n",
       "      <td>0</td>\n",
       "      <td>48</td>\n",
       "      <td>1</td>\n",
       "    </tr>\n",
       "    <tr>\n",
       "      <td>572838</td>\n",
       "      <td>15</td>\n",
       "      <td>12</td>\n",
       "      <td>6</td>\n",
       "      <td>22</td>\n",
       "      <td>0</td>\n",
       "      <td>48</td>\n",
       "      <td>2</td>\n",
       "    </tr>\n",
       "    <tr>\n",
       "      <td>572839</td>\n",
       "      <td>15</td>\n",
       "      <td>12</td>\n",
       "      <td>6</td>\n",
       "      <td>20</td>\n",
       "      <td>0</td>\n",
       "      <td>48</td>\n",
       "      <td>2</td>\n",
       "    </tr>\n",
       "    <tr>\n",
       "      <td>572840</td>\n",
       "      <td>15</td>\n",
       "      <td>12</td>\n",
       "      <td>6</td>\n",
       "      <td>19</td>\n",
       "      <td>1</td>\n",
       "      <td>48</td>\n",
       "      <td>2</td>\n",
       "    </tr>\n",
       "  </tbody>\n",
       "</table>\n",
       "<p>572807 rows × 7 columns</p>\n",
       "</div>"
      ],
      "text/plain": [
       "        Jour_C  Mois_C  Jour_semaine  Heure_commande  heure_travail  \\\n",
       "0            1      11             4              11              1   \n",
       "1            1      11             4              11              1   \n",
       "2            1      11             4              10              1   \n",
       "3            1      11             4              14              1   \n",
       "4            1      11             4              13              1   \n",
       "...        ...     ...           ...             ...            ...   \n",
       "572836      16      12             0               6              0   \n",
       "572837      16      12             0               6              0   \n",
       "572838      15      12             6              22              0   \n",
       "572839      15      12             6              20              0   \n",
       "572840      15      12             6              19              1   \n",
       "\n",
       "       Fournisseur  délais  \n",
       "0               48       1  \n",
       "1               48       1  \n",
       "2               48       1  \n",
       "3               48       1  \n",
       "4               48       1  \n",
       "...            ...     ...  \n",
       "572836          48       1  \n",
       "572837          48       1  \n",
       "572838          48       2  \n",
       "572839          48       2  \n",
       "572840          48       2  \n",
       "\n",
       "[572807 rows x 7 columns]"
      ]
     },
     "execution_count": 28,
     "metadata": {},
     "output_type": "execute_result"
    }
   ],
   "source": [
    "data2"
   ]
  },
  {
   "cell_type": "code",
   "execution_count": 29,
   "metadata": {},
   "outputs": [
    {
     "data": {
      "text/plain": [
       "2.3175886467867888"
      ]
     },
     "execution_count": 29,
     "metadata": {},
     "output_type": "execute_result"
    }
   ],
   "source": [
    "data2['délais'].mean()"
   ]
  },
  {
   "cell_type": "code",
   "execution_count": 30,
   "metadata": {},
   "outputs": [
    {
     "data": {
      "text/html": [
       "<div>\n",
       "<style scoped>\n",
       "    .dataframe tbody tr th:only-of-type {\n",
       "        vertical-align: middle;\n",
       "    }\n",
       "\n",
       "    .dataframe tbody tr th {\n",
       "        vertical-align: top;\n",
       "    }\n",
       "\n",
       "    .dataframe thead th {\n",
       "        text-align: right;\n",
       "    }\n",
       "</style>\n",
       "<table border=\"1\" class=\"dataframe\">\n",
       "  <thead>\n",
       "    <tr style=\"text-align: right;\">\n",
       "      <th></th>\n",
       "      <th>Jour_C</th>\n",
       "      <th>Mois_C</th>\n",
       "      <th>Jour_semaine</th>\n",
       "      <th>Heure_commande</th>\n",
       "      <th>heure_travail</th>\n",
       "      <th>délais</th>\n",
       "    </tr>\n",
       "  </thead>\n",
       "  <tbody>\n",
       "    <tr>\n",
       "      <td>count</td>\n",
       "      <td>572807.000000</td>\n",
       "      <td>572807.000000</td>\n",
       "      <td>572807.000000</td>\n",
       "      <td>572807.000000</td>\n",
       "      <td>572807.000000</td>\n",
       "      <td>572807.000000</td>\n",
       "    </tr>\n",
       "    <tr>\n",
       "      <td>mean</td>\n",
       "      <td>14.040017</td>\n",
       "      <td>11.412158</td>\n",
       "      <td>3.156484</td>\n",
       "      <td>15.333788</td>\n",
       "      <td>0.699010</td>\n",
       "      <td>2.317589</td>\n",
       "    </tr>\n",
       "    <tr>\n",
       "      <td>std</td>\n",
       "      <td>9.724833</td>\n",
       "      <td>0.492224</td>\n",
       "      <td>2.133390</td>\n",
       "      <td>4.758577</td>\n",
       "      <td>0.458689</td>\n",
       "      <td>1.236173</td>\n",
       "    </tr>\n",
       "    <tr>\n",
       "      <td>min</td>\n",
       "      <td>1.000000</td>\n",
       "      <td>11.000000</td>\n",
       "      <td>0.000000</td>\n",
       "      <td>0.000000</td>\n",
       "      <td>0.000000</td>\n",
       "      <td>0.000000</td>\n",
       "    </tr>\n",
       "    <tr>\n",
       "      <td>25%</td>\n",
       "      <td>5.000000</td>\n",
       "      <td>11.000000</td>\n",
       "      <td>1.000000</td>\n",
       "      <td>12.000000</td>\n",
       "      <td>0.000000</td>\n",
       "      <td>1.000000</td>\n",
       "    </tr>\n",
       "    <tr>\n",
       "      <td>50%</td>\n",
       "      <td>12.000000</td>\n",
       "      <td>11.000000</td>\n",
       "      <td>3.000000</td>\n",
       "      <td>16.000000</td>\n",
       "      <td>1.000000</td>\n",
       "      <td>2.000000</td>\n",
       "    </tr>\n",
       "    <tr>\n",
       "      <td>75%</td>\n",
       "      <td>24.000000</td>\n",
       "      <td>12.000000</td>\n",
       "      <td>5.000000</td>\n",
       "      <td>19.000000</td>\n",
       "      <td>1.000000</td>\n",
       "      <td>3.000000</td>\n",
       "    </tr>\n",
       "    <tr>\n",
       "      <td>max</td>\n",
       "      <td>30.000000</td>\n",
       "      <td>12.000000</td>\n",
       "      <td>6.000000</td>\n",
       "      <td>23.000000</td>\n",
       "      <td>1.000000</td>\n",
       "      <td>15.000000</td>\n",
       "    </tr>\n",
       "  </tbody>\n",
       "</table>\n",
       "</div>"
      ],
      "text/plain": [
       "              Jour_C         Mois_C   Jour_semaine  Heure_commande  \\\n",
       "count  572807.000000  572807.000000  572807.000000   572807.000000   \n",
       "mean       14.040017      11.412158       3.156484       15.333788   \n",
       "std         9.724833       0.492224       2.133390        4.758577   \n",
       "min         1.000000      11.000000       0.000000        0.000000   \n",
       "25%         5.000000      11.000000       1.000000       12.000000   \n",
       "50%        12.000000      11.000000       3.000000       16.000000   \n",
       "75%        24.000000      12.000000       5.000000       19.000000   \n",
       "max        30.000000      12.000000       6.000000       23.000000   \n",
       "\n",
       "       heure_travail         délais  \n",
       "count  572807.000000  572807.000000  \n",
       "mean        0.699010       2.317589  \n",
       "std         0.458689       1.236173  \n",
       "min         0.000000       0.000000  \n",
       "25%         0.000000       1.000000  \n",
       "50%         1.000000       2.000000  \n",
       "75%         1.000000       3.000000  \n",
       "max         1.000000      15.000000  "
      ]
     },
     "execution_count": 30,
     "metadata": {},
     "output_type": "execute_result"
    }
   ],
   "source": [
    "data2.describe()"
   ]
  },
  {
   "cell_type": "markdown",
   "metadata": {},
   "source": [
    "### On étudie la corrélation entre les features"
   ]
  },
  {
   "cell_type": "code",
   "execution_count": 31,
   "metadata": {},
   "outputs": [
    {
     "data": {
      "text/plain": [
       "<matplotlib.axes._subplots.AxesSubplot at 0x221a50b1108>"
      ]
     },
     "execution_count": 31,
     "metadata": {},
     "output_type": "execute_result"
    },
    {
     "data": {
      "image/png": "[encoded data removed]",
      "text/plain": [
       "<Figure size 432x288 with 2 Axes>"
      ]
     },
     "metadata": {
      "needs_background": "light"
     },
     "output_type": "display_data"
    }
   ],
   "source": [
    "import seaborn as sns\n",
    "sns.heatmap(data2.corr())"
   ]
  },
  {
   "cell_type": "code",
   "execution_count": 32,
   "metadata": {},
   "outputs": [
    {
     "data": {
      "text/html": [
       "<div>\n",
       "<style scoped>\n",
       "    .dataframe tbody tr th:only-of-type {\n",
       "        vertical-align: middle;\n",
       "    }\n",
       "\n",
       "    .dataframe tbody tr th {\n",
       "        vertical-align: top;\n",
       "    }\n",
       "\n",
       "    .dataframe thead th {\n",
       "        text-align: right;\n",
       "    }\n",
       "</style>\n",
       "<table border=\"1\" class=\"dataframe\">\n",
       "  <thead>\n",
       "    <tr style=\"text-align: right;\">\n",
       "      <th></th>\n",
       "      <th>providerservice_id</th>\n",
       "      <th>délais</th>\n",
       "      <th>Heure_commande</th>\n",
       "      <th>Jour_semaine</th>\n",
       "      <th>Annee_C</th>\n",
       "      <th>Mois_C</th>\n",
       "      <th>Jour_C</th>\n",
       "      <th>heure_travail</th>\n",
       "    </tr>\n",
       "  </thead>\n",
       "  <tbody>\n",
       "    <tr>\n",
       "      <td>providerservice_id</td>\n",
       "      <td>1.000000</td>\n",
       "      <td>0.023007</td>\n",
       "      <td>-0.013139</td>\n",
       "      <td>0.029341</td>\n",
       "      <td>NaN</td>\n",
       "      <td>-0.026252</td>\n",
       "      <td>0.023451</td>\n",
       "      <td>0.054768</td>\n",
       "    </tr>\n",
       "    <tr>\n",
       "      <td>délais</td>\n",
       "      <td>0.023007</td>\n",
       "      <td>1.000000</td>\n",
       "      <td>0.167806</td>\n",
       "      <td>-0.102732</td>\n",
       "      <td>NaN</td>\n",
       "      <td>0.382755</td>\n",
       "      <td>-0.392781</td>\n",
       "      <td>-0.090180</td>\n",
       "    </tr>\n",
       "    <tr>\n",
       "      <td>Heure_commande</td>\n",
       "      <td>-0.013139</td>\n",
       "      <td>0.167806</td>\n",
       "      <td>1.000000</td>\n",
       "      <td>0.026356</td>\n",
       "      <td>NaN</td>\n",
       "      <td>0.029974</td>\n",
       "      <td>-0.025944</td>\n",
       "      <td>-0.300761</td>\n",
       "    </tr>\n",
       "    <tr>\n",
       "      <td>Jour_semaine</td>\n",
       "      <td>0.029341</td>\n",
       "      <td>-0.102732</td>\n",
       "      <td>0.026356</td>\n",
       "      <td>1.000000</td>\n",
       "      <td>NaN</td>\n",
       "      <td>-0.023918</td>\n",
       "      <td>0.101491</td>\n",
       "      <td>0.036077</td>\n",
       "    </tr>\n",
       "    <tr>\n",
       "      <td>Annee_C</td>\n",
       "      <td>NaN</td>\n",
       "      <td>NaN</td>\n",
       "      <td>NaN</td>\n",
       "      <td>NaN</td>\n",
       "      <td>NaN</td>\n",
       "      <td>NaN</td>\n",
       "      <td>NaN</td>\n",
       "      <td>NaN</td>\n",
       "    </tr>\n",
       "    <tr>\n",
       "      <td>Mois_C</td>\n",
       "      <td>-0.026252</td>\n",
       "      <td>0.382755</td>\n",
       "      <td>0.029974</td>\n",
       "      <td>-0.023918</td>\n",
       "      <td>NaN</td>\n",
       "      <td>1.000000</td>\n",
       "      <td>-0.661563</td>\n",
       "      <td>-0.023091</td>\n",
       "    </tr>\n",
       "    <tr>\n",
       "      <td>Jour_C</td>\n",
       "      <td>0.023451</td>\n",
       "      <td>-0.392781</td>\n",
       "      <td>-0.025944</td>\n",
       "      <td>0.101491</td>\n",
       "      <td>NaN</td>\n",
       "      <td>-0.661563</td>\n",
       "      <td>1.000000</td>\n",
       "      <td>0.016685</td>\n",
       "    </tr>\n",
       "    <tr>\n",
       "      <td>heure_travail</td>\n",
       "      <td>0.054768</td>\n",
       "      <td>-0.090180</td>\n",
       "      <td>-0.300761</td>\n",
       "      <td>0.036077</td>\n",
       "      <td>NaN</td>\n",
       "      <td>-0.023091</td>\n",
       "      <td>0.016685</td>\n",
       "      <td>1.000000</td>\n",
       "    </tr>\n",
       "  </tbody>\n",
       "</table>\n",
       "</div>"
      ],
      "text/plain": [
       "                    providerservice_id    délais  Heure_commande  \\\n",
       "providerservice_id            1.000000  0.023007       -0.013139   \n",
       "délais                        0.023007  1.000000        0.167806   \n",
       "Heure_commande               -0.013139  0.167806        1.000000   \n",
       "Jour_semaine                  0.029341 -0.102732        0.026356   \n",
       "Annee_C                            NaN       NaN             NaN   \n",
       "Mois_C                       -0.026252  0.382755        0.029974   \n",
       "Jour_C                        0.023451 -0.392781       -0.025944   \n",
       "heure_travail                 0.054768 -0.090180       -0.300761   \n",
       "\n",
       "                    Jour_semaine  Annee_C    Mois_C    Jour_C  heure_travail  \n",
       "providerservice_id      0.029341      NaN -0.026252  0.023451       0.054768  \n",
       "délais                 -0.102732      NaN  0.382755 -0.392781      -0.090180  \n",
       "Heure_commande          0.026356      NaN  0.029974 -0.025944      -0.300761  \n",
       "Jour_semaine            1.000000      NaN -0.023918  0.101491       0.036077  \n",
       "Annee_C                      NaN      NaN       NaN       NaN            NaN  \n",
       "Mois_C                 -0.023918      NaN  1.000000 -0.661563      -0.023091  \n",
       "Jour_C                  0.101491      NaN -0.661563  1.000000       0.016685  \n",
       "heure_travail           0.036077      NaN -0.023091  0.016685       1.000000  "
      ]
     },
     "execution_count": 32,
     "metadata": {},
     "output_type": "execute_result"
    }
   ],
   "source": [
    "data.dtypes\n",
    "data.corr()"
   ]
  },
  {
   "cell_type": "markdown",
   "metadata": {},
   "source": [
    "##### On remarque q'il n'y a pas de grosse corrélation entre les paramètres"
   ]
  },
  {
   "cell_type": "markdown",
   "metadata": {},
   "source": [
    "## Modèle\n"
   ]
  },
  {
   "cell_type": "markdown",
   "metadata": {},
   "source": [
    "#### Linear Regression"
   ]
  },
  {
   "cell_type": "code",
   "execution_count": 33,
   "metadata": {},
   "outputs": [],
   "source": [
    "import pandas as pd # Pour importer le tableau\n",
    "import matplotlib.pyplot as plt # Pour tracer des graphiques\n",
    "import numpy as np # Pour le calcul numérique\n",
    "from sklearn.metrics import accuracy_score\n",
    "\n",
    "from sklearn.linear_model import LinearRegression \n",
    "# le module scikit\n",
    "from sklearn import datasets, linear_model, metrics"
   ]
  },
  {
   "cell_type": "code",
   "execution_count": 34,
   "metadata": {},
   "outputs": [],
   "source": [
    "x = np.array(data2[['Jour_C','Mois_C','Jour_semaine','Heure_commande','heure_travail','Fournisseur']])\n",
    "y = np.array(data2['délais'])"
   ]
  },
  {
   "cell_type": "code",
   "execution_count": 35,
   "metadata": {},
   "outputs": [
    {
     "data": {
      "text/plain": [
       "array([[1, 11, 4, 11, 1, '48'],\n",
       "       [1, 11, 4, 11, 1, '48'],\n",
       "       [1, 11, 4, 10, 1, '48'],\n",
       "       ...,\n",
       "       [15, 12, 6, 22, 0, '48'],\n",
       "       [15, 12, 6, 20, 0, '48'],\n",
       "       [15, 12, 6, 19, 1, '48']], dtype=object)"
      ]
     },
     "execution_count": 35,
     "metadata": {},
     "output_type": "execute_result"
    }
   ],
   "source": [
    "x"
   ]
  },
  {
   "cell_type": "code",
   "execution_count": 36,
   "metadata": {},
   "outputs": [
    {
     "data": {
      "text/plain": [
       "array([1, 1, 1, ..., 2, 2, 2], dtype=int64)"
      ]
     },
     "execution_count": 36,
     "metadata": {},
     "output_type": "execute_result"
    }
   ],
   "source": [
    "y"
   ]
  },
  {
   "cell_type": "code",
   "execution_count": 37,
   "metadata": {},
   "outputs": [],
   "source": [
    "from sklearn.model_selection import train_test_split \n",
    "X_train, X_test, y_train, y_test = train_test_split(x, y, test_size=0.7, \n",
    "                                                    random_state=1)"
   ]
  },
  {
   "cell_type": "code",
   "execution_count": 38,
   "metadata": {
    "scrolled": true
   },
   "outputs": [
    {
     "data": {
      "text/plain": [
       "LinearRegression(copy_X=True, fit_intercept=True, n_jobs=None, normalize=False)"
      ]
     },
     "execution_count": 38,
     "metadata": {},
     "output_type": "execute_result"
    }
   ],
   "source": [
    "reg = linear_model.LinearRegression() \n",
    "  \n",
    "reg.fit(X_train, y_train) "
   ]
  },
  {
   "cell_type": "code",
   "execution_count": 39,
   "metadata": {},
   "outputs": [],
   "source": [
    "y_pred_reg=reg.predict(X_test)"
   ]
  },
  {
   "cell_type": "code",
   "execution_count": 40,
   "metadata": {},
   "outputs": [],
   "source": [
    "y_pred_reg2=[]\n",
    "for i in y_pred_reg:\n",
    "    y_pred_reg2.append(int(i))"
   ]
  },
  {
   "cell_type": "code",
   "execution_count": 41,
   "metadata": {},
   "outputs": [
    {
     "data": {
      "text/plain": [
       "array([3, 2, 1, ..., 2, 2, 1])"
      ]
     },
     "execution_count": 41,
     "metadata": {},
     "output_type": "execute_result"
    }
   ],
   "source": [
    "np.array(y_pred_reg2)"
   ]
  },
  {
   "cell_type": "code",
   "execution_count": 42,
   "metadata": {},
   "outputs": [],
   "source": [
    "#plt.scatter(y_pred,y_test)"
   ]
  },
  {
   "cell_type": "code",
   "execution_count": 43,
   "metadata": {},
   "outputs": [
    {
     "data": {
      "text/plain": [
       "1.5595426034691307"
      ]
     },
     "execution_count": 43,
     "metadata": {},
     "output_type": "execute_result"
    }
   ],
   "source": [
    "np.mean((y_pred_reg2 - y_test)**2)"
   ]
  },
  {
   "cell_type": "code",
   "execution_count": 44,
   "metadata": {},
   "outputs": [
    {
     "name": "stdout",
     "output_type": "stream",
     "text": [
      "1.5595426034691307\n",
      "0.9340416245806991\n"
     ]
    }
   ],
   "source": [
    "from sklearn.metrics import mean_squared_error, mean_absolute_error\n",
    "print(mean_squared_error(y_pred_reg2,y_test))\n",
    "print(mean_absolute_error(y_pred_reg2,y_test))"
   ]
  },
  {
   "cell_type": "markdown",
   "metadata": {},
   "source": [
    "###  On remarque que la target est une variable discrète donc ont peut appliquer des modèles de classifications"
   ]
  },
  {
   "cell_type": "markdown",
   "metadata": {},
   "source": [
    "#### Logistic Regression"
   ]
  },
  {
   "cell_type": "code",
   "execution_count": 45,
   "metadata": {},
   "outputs": [],
   "source": [
    "from sklearn.linear_model import LogisticRegression\n",
    "from sklearn.metrics import classification_report, confusion_matrix\n",
    "from sklearn.metrics import accuracy_score"
   ]
  },
  {
   "cell_type": "code",
   "execution_count": 46,
   "metadata": {},
   "outputs": [],
   "source": [
    "log = LogisticRegression(solver='liblinear', random_state=0)"
   ]
  },
  {
   "cell_type": "code",
   "execution_count": 47,
   "metadata": {},
   "outputs": [
    {
     "name": "stderr",
     "output_type": "stream",
     "text": [
      "C:\\Users\\Takwa Aldroe\\Anaconda3\\Nouveau dossier\\lib\\site-packages\\sklearn\\linear_model\\logistic.py:469: FutureWarning: Default multi_class will be changed to 'auto' in 0.22. Specify the multi_class option to silence this warning.\n",
      "  \"this warning.\", FutureWarning)\n"
     ]
    },
    {
     "data": {
      "text/plain": [
       "LogisticRegression(C=1.0, class_weight=None, dual=False, fit_intercept=True,\n",
       "                   intercept_scaling=1, l1_ratio=None, max_iter=100,\n",
       "                   multi_class='warn', n_jobs=None, penalty='l2',\n",
       "                   random_state=0, solver='liblinear', tol=0.0001, verbose=0,\n",
       "                   warm_start=False)"
      ]
     },
     "execution_count": 47,
     "metadata": {},
     "output_type": "execute_result"
    }
   ],
   "source": [
    "log.fit(X_train, y_train) "
   ]
  },
  {
   "cell_type": "code",
   "execution_count": 48,
   "metadata": {},
   "outputs": [],
   "source": [
    "y_pred_log=log.predict(X_test)"
   ]
  },
  {
   "cell_type": "code",
   "execution_count": 49,
   "metadata": {},
   "outputs": [],
   "source": [
    "y_pred_log2=[]\n",
    "for i in y_pred_log:\n",
    "    y_pred_log2.append(int(i))\n",
    "np.array(y_pred_log2)"
   ]
  },
  {
   "cell_type": "code",
   "execution_count": 51,
   "metadata": {},
   "outputs": [
    {
     "name": "stdout",
     "output_type": "stream",
     "text": [
      "1.0207225069519783\n",
      "0.7043956455052187\n",
      "0.4244335540508523\n"
     ]
    }
   ],
   "source": [
    "print(mean_squared_error(y_pred_log2,y_test))\n",
    "print(mean_absolute_error(y_pred_log2,y_test))\n",
    "print(accuracy_score(y_test,y_pred_log))"
   ]
  },
  {
   "cell_type": "markdown",
   "metadata": {},
   "source": [
    "#### Random Forest"
   ]
  },
  {
   "cell_type": "code",
   "execution_count": 52,
   "metadata": {},
   "outputs": [],
   "source": [
    "from sklearn.ensemble import RandomForestClassifier\n",
    "rfc=RandomForestClassifier()"
   ]
  },
  {
   "cell_type": "code",
   "execution_count": 53,
   "metadata": {},
   "outputs": [
    {
     "name": "stderr",
     "output_type": "stream",
     "text": [
      "C:\\Users\\Takwa Aldroe\\Anaconda3\\Nouveau dossier\\lib\\site-packages\\sklearn\\ensemble\\forest.py:245: FutureWarning: The default value of n_estimators will change from 10 in version 0.20 to 100 in 0.22.\n",
      "  \"10 in version 0.20 to 100 in 0.22.\", FutureWarning)\n"
     ]
    },
    {
     "data": {
      "text/plain": [
       "RandomForestClassifier(bootstrap=True, class_weight=None, criterion='gini',\n",
       "                       max_depth=None, max_features='auto', max_leaf_nodes=None,\n",
       "                       min_impurity_decrease=0.0, min_impurity_split=None,\n",
       "                       min_samples_leaf=1, min_samples_split=2,\n",
       "                       min_weight_fraction_leaf=0.0, n_estimators=10,\n",
       "                       n_jobs=None, oob_score=False, random_state=None,\n",
       "                       verbose=0, warm_start=False)"
      ]
     },
     "execution_count": 53,
     "metadata": {},
     "output_type": "execute_result"
    }
   ],
   "source": [
    "rfc.fit(X_train,y_train)"
   ]
  },
  {
   "cell_type": "code",
   "execution_count": 54,
   "metadata": {},
   "outputs": [],
   "source": [
    "y_pred_rfc=rfc.predict(X_test)"
   ]
  },
  {
   "cell_type": "code",
   "execution_count": 55,
   "metadata": {},
   "outputs": [],
   "source": [
    "score_rfc=accuracy_score(y_test,y_pred_rfc)"
   ]
  },
  {
   "cell_type": "code",
   "execution_count": 56,
   "metadata": {},
   "outputs": [
    {
     "name": "stdout",
     "output_type": "stream",
     "text": [
      "0.69181100594815\n"
     ]
    }
   ],
   "source": [
    "print(score_rfc)"
   ]
  },
  {
   "cell_type": "markdown",
   "metadata": {},
   "source": [
    "####  Boosting"
   ]
  },
  {
   "cell_type": "code",
   "execution_count": 57,
   "metadata": {},
   "outputs": [],
   "source": [
    "from xgboost import XGBClassifier\n",
    "xgb=XGBClassifier()\n",
    "\n",
    "xgb.fit(X_train,y_train)\n",
    "\n",
    "y_pred_xgb=xgb.predict(X_test)\n",
    "\n",
    "score_xgb=accuracy_score(y_test,y_pred_xgb)\n"
   ]
  },
  {
   "cell_type": "code",
   "execution_count": 58,
   "metadata": {},
   "outputs": [
    {
     "name": "stdout",
     "output_type": "stream",
     "text": [
      "0.641781701644782\n"
     ]
    }
   ],
   "source": [
    "print(score_xgb)"
   ]
  },
  {
   "cell_type": "markdown",
   "metadata": {},
   "source": [
    "#### KNN"
   ]
  },
  {
   "cell_type": "code",
   "execution_count": 59,
   "metadata": {},
   "outputs": [
    {
     "data": {
      "text/plain": [
       "0.6717070068459841"
      ]
     },
     "execution_count": 59,
     "metadata": {},
     "output_type": "execute_result"
    }
   ],
   "source": [
    "from sklearn.neighbors import KNeighborsClassifier\n",
    "list_1=[]\n",
    "for i in range(1,21):\n",
    "    knn=KNeighborsClassifier(n_neighbors=i)\n",
    "    \n",
    "    knn.fit(X_train,y_train)\n",
    "    \n",
    "    preds=knn.predict(X_test)\n",
    "\n",
    "    scores=accuracy_score(y_test,preds)\n",
    "    \n",
    "    list_1.append(scores)\n",
    "    \n",
    "\n",
    "max(list_1)"
   ]
  },
  {
   "cell_type": "code",
   "execution_count": 60,
   "metadata": {},
   "outputs": [
    {
     "data": {
      "text/plain": [
       "0.6717070068459841"
      ]
     },
     "execution_count": 60,
     "metadata": {},
     "output_type": "execute_result"
    }
   ],
   "source": [
    "max(list_1)"
   ]
  },
  {
   "cell_type": "markdown",
   "metadata": {},
   "source": [
    "#### NaiveBayes"
   ]
  },
  {
   "cell_type": "code",
   "execution_count": 61,
   "metadata": {},
   "outputs": [
    {
     "name": "stdout",
     "output_type": "stream",
     "text": [
      "Accuracy Score for Naive Bayes :  0.36188694773858066\n"
     ]
    }
   ],
   "source": [
    "from sklearn.naive_bayes import MultinomialNB\n",
    "from sklearn.metrics import accuracy_score\n",
    "\n",
    "mnb = MultinomialNB(alpha=1.9)         \n",
    "\n",
    "mnb.fit(X_train,y_train)\n",
    "\n",
    "y_pred_mnb= mnb.predict(X_test)\n",
    "score_mnb=accuracy_score(y_pred_mnb,y_test)\n",
    "\n",
    "\n",
    "print(\"Accuracy Score for Naive Bayes : \", score_mnb)"
   ]
  },
  {
   "cell_type": "markdown",
   "metadata": {},
   "source": [
    "##### La meileur accuracy est celle de random forest"
   ]
  }
 ],
 "metadata": {
  "kernelspec": {
   "display_name": "Python 3",
   "language": "python",
   "name": "python3"
  },
  "language_info": {
   "codemirror_mode": {
    "name": "ipython",
    "version": 3
   },
   "file_extension": ".py",
   "mimetype": "text/x-python",
   "name": "python",
   "nbconvert_exporter": "python",
   "pygments_lexer": "ipython3",
   "version": "3.7.4"
  }
 },
 "nbformat": 4,
 "nbformat_minor": 2
}
